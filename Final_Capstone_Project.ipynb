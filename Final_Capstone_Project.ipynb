{
 "cells": [
  {
   "cell_type": "markdown",
   "metadata": {},
   "source": [
    "<h1>The Battle of the Neighborhoods (Week 1)</h1>"
   ]
  },
  {
   "cell_type": "markdown",
   "metadata": {},
   "source": [
    "<h2>Business Problem</h2>"
   ]
  },
  {
   "cell_type": "markdown",
   "metadata": {},
   "source": [
    "The goal of this project is to find an optimal location for a medium sized grocery store location for an online retailer. The Chicago metropolitan area is the target area for the stakeholder.\n",
    "\n",
    "Being a major city and a commercial hub Chicago is already crammed with thousands of grocery stores of all shapes and sizes. Our focus, just as in any other such project, will be the location. Due to Chicago's dense traffic and its congestions, we are interested in open spaces closer to the western suburbs of Chicagoland.\n",
    "\n",
    "We will use our data science skills to generate the required results based on the above attributes. We will also present our findings with simplicity to make it easy for the stakeholders to decide.\n"
   ]
  },
  {
   "cell_type": "markdown",
   "metadata": {},
   "source": [
    "<h2>Data</h2>"
   ]
  },
  {
   "cell_type": "markdown",
   "metadata": {},
   "source": [
    "Based on the nature of our problem, our decision is will be affected by the following factors:\n",
    "* number of existing grocery stores\n",
    "* distance of existing grocery stores from shopping malls\n",
    "* distance of existing grocery stores from gas stations\n",
    "\n",
    "In order to define our neighborhoods we will place our location centers at Plainfield, Illinois.\n",
    "Following data sources will be utilized to prepare and present the required information:\n",
    "* centers of candidate areas will be generated algorithmically and approximate addresses of centers of those areas will be obtained using Google Maps\n",
    "* the Foursquare API will be used to obtain the number of grocery stores and their types and location in every suburb within the assigned search radius from the city center (Plainfield Village Hall)\n",
    "* Google Maps will be used to get the coordinates of the Plainfield Village Hall as the center"
   ]
  },
  {
   "cell_type": "markdown",
   "metadata": {},
   "source": [
    "<h2>Methodology</h2>"
   ]
  },
  {
   "cell_type": "markdown",
   "metadata": {},
   "source": [
    "We will be focusing on locating those areas of Chicago's western suburbs that have a low density of grocery stores, particularly those with sparse number of medium sized grocery stores such as Aldi. The limit of our analysis will be confined to within an approximate radius of 10 miles from city center which in this case will be the Plainfield Village Hall.\n",
    "\n",
    "Step one, is to collect the required data, location of all medium sized grocery stores within 10 miles from the Plainfield Village Hall. Foursquare categorization will be used in identifying medium sized grocery stores.\n",
    "\n",
    "Step two, determining the population density across the western suburbs. The focus will be to identify some areas close to Plainfield Village Hall with very low density of medium sized grocery stores.\n",
    "\n",
    "Final step, focusing on the most attractive locations to setup our store. To get to that point we will create clusters of locations based upon feedback from our stakeholders who will be conducting some fact-finding of their own. Locations with no more than two medium sized grocery stores within a radius of 2 miles. Presenting maps of all attractive locations by using k-means clustering in order to identify location details and attributes that will help our stakeholders explore and decide on an optimal venue."
   ]
  },
  {
   "cell_type": "markdown",
   "metadata": {},
   "source": []
  }
 ],
 "metadata": {
  "kernelspec": {
   "display_name": "Python 3",
   "language": "python",
   "name": "python3"
  },
  "language_info": {
   "codemirror_mode": {
    "name": "ipython",
    "version": 3
   },
   "file_extension": ".py",
   "mimetype": "text/x-python",
   "name": "python",
   "nbconvert_exporter": "python",
   "pygments_lexer": "ipython3",
   "version": "3.6.8"
  }
 },
 "nbformat": 4,
 "nbformat_minor": 2
}
